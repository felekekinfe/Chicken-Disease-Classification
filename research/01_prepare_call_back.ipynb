{
 "cells": [
  {
   "cell_type": "code",
   "execution_count": 12,
   "metadata": {},
   "outputs": [
    {
     "name": "stdout",
     "output_type": "stream",
     "text": [
      "/home/cs/Chicken-Disease-Classification\n"
     ]
    }
   ],
   "source": [
    "import os\n",
    "\n",
    "%pwd\n",
    "%cd '/home/cs/Chicken-Disease-Classification'"
   ]
  },
  {
   "cell_type": "code",
   "execution_count": 13,
   "metadata": {},
   "outputs": [],
   "source": [
    "from dataclasses import dataclass\n",
    "from pathlib import Path\n",
    "\n",
    "@dataclass\n",
    "class ModelCallbackConfig:\n",
    "    root_dir: Path\n",
    "    tensorboard_root_log_dir: Path\n",
    "    checkpoint_model_filepath: Path\n",
    "\n"
   ]
  },
  {
   "cell_type": "code",
   "execution_count": 14,
   "metadata": {},
   "outputs": [],
   "source": [
    "from cnnClassifier.constants import *\n",
    "from cnnClassifier.utils.common import read_yaml,create_directory"
   ]
  },
  {
   "cell_type": "code",
   "execution_count": 15,
   "metadata": {},
   "outputs": [],
   "source": [
    "class ConfigurationManager:\n",
    "    def __init__(self,config_file_path=CONFIG_FILE_PATH,params_file_path=PARAMS_FILE_PATH):\n",
    "        self.config=read_yaml(config_file_path)\n",
    "        self.params=read_yaml(params_file_path)\n",
    "\n",
    "        create_directory([self.config.artifacts_root])\n",
    "    \n",
    "    def get_prepare_callback_config(self):\n",
    "        config=self.config.prepare_callbacks\n",
    "        model_checkpoint_dir=os.path.dirname(config.checkpoint_model_filepath)\n",
    "        create_directory([Path(model_checkpoint_dir),Path(config.tensorboard_root_log_dir)])\n",
    "\n",
    "        prepare_callback_config=ModelCallbackConfig(\n",
    "            root_dir=Path(config.root_dir),\n",
    "            tensorboard_root_log_dir=Path(config.tensorboard_root_log_dir),\n",
    "            checkpoint_model_filepath=Path(config.checkpoint_model_filepath)\n",
    "            \n",
    "        )\n",
    "\n",
    "        return prepare_callback_config\n",
    "\n",
    "\n",
    "        "
   ]
  },
  {
   "cell_type": "code",
   "execution_count": 16,
   "metadata": {},
   "outputs": [],
   "source": [
    "import os\n",
    "import urllib.request as request\n",
    "from zipfile import ZipFile\n",
    "import tensorflow as tf\n",
    "import time"
   ]
  },
  {
   "cell_type": "code",
   "execution_count": 17,
   "metadata": {},
   "outputs": [],
   "source": [
    "class PrepareCallbacK:\n",
    "    def __init__(self,config: ModelCallbackConfig):\n",
    "        self.config=config\n",
    "\n",
    "    @property\n",
    "    def create_tb_callback(self):\n",
    "        timestamp=time.strftime(\"%Y-%m-%dT%H:%M-%S\")\n",
    "        tb_running_log_dir=os.path.join(self.config.tensorboard_root_log_dir,f'tb_logs_at_{timestamp}')\n",
    "\n",
    "        return tf.keras.callbacks.TensorBoard(log_dir=tb_running_log_dir)\n",
    "    @property\n",
    "    def create_checkpoint_callback(self):\n",
    "        return tf.keras.callbacks.ModelCheckpoint(filepath=self.config.checkpoint_model_filepath,save_best_only=True)\n",
    "    \n",
    "    def get_tb_checkpoint_callback(self):\n",
    "        return [self.create_tb_callback,self.create_checkpoint_callback]\n",
    "    \n"
   ]
  },
  {
   "cell_type": "code",
   "execution_count": 18,
   "metadata": {},
   "outputs": [
    {
     "name": "stdout",
     "output_type": "stream",
     "text": [
      "[2024-12-11 15:39:45,261: INFO: common:Reading yaml file from:config/config.yaml]\n",
      "[2024-12-11 15:39:45,267: INFO: common:Reading yaml file from:params.yaml]\n",
      "[2024-12-11 15:39:45,269: INFO: common:directory created at:artifacts]\n",
      "[2024-12-11 15:39:45,271: INFO: common:directory created at:artifacts/prepare_callbacks/checkpoint_dir]\n",
      "[2024-12-11 15:39:45,273: INFO: common:directory created at:artifacts/prepare_callbacks/tensorboard_log_dir]\n"
     ]
    }
   ],
   "source": [
    "try:\n",
    "    config=ConfigurationManager()\n",
    "    prepare_callback_config=config.get_prepare_callback_config()\n",
    "    preparecallback=PrepareCallbacK(config=prepare_callback_config)\n",
    "    check_list=preparecallback.get_tb_checkpoint_callback()\n",
    "except Exception as e:\n",
    "    raise e\n",
    "    "
   ]
  }
 ],
 "metadata": {
  "kernelspec": {
   "display_name": "chickenEnv",
   "language": "python",
   "name": "python3"
  },
  "language_info": {
   "codemirror_mode": {
    "name": "ipython",
    "version": 3
   },
   "file_extension": ".py",
   "mimetype": "text/x-python",
   "name": "python",
   "nbconvert_exporter": "python",
   "pygments_lexer": "ipython3",
   "version": "3.8.10"
  }
 },
 "nbformat": 4,
 "nbformat_minor": 2
}
